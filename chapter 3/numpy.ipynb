{
 "cells": [
  {
   "cell_type": "markdown",
   "metadata": {},
   "source": [
    "# Creating Numpy ndarrays\n"
   ]
  },
  {
   "cell_type": "code",
   "execution_count": 36,
   "metadata": {},
   "outputs": [],
   "source": [
    "import numpy as np"
   ]
  },
  {
   "cell_type": "code",
   "execution_count": 37,
   "metadata": {},
   "outputs": [
    {
     "data": {
      "text/plain": [
       "array([1.1, 2.2, 3.3, 4.4, 5.5])"
      ]
     },
     "execution_count": 37,
     "metadata": {},
     "output_type": "execute_result"
    }
   ],
   "source": [
    "# Creating 1D ndarrays\n",
    "\n",
    "arr1D = np.array([1.1,2.2,3.3,4.4,5.5])\n",
    "arr1D"
   ]
  },
  {
   "cell_type": "code",
   "execution_count": 38,
   "metadata": {},
   "outputs": [
    {
     "data": {
      "text/plain": [
       "numpy.ndarray"
      ]
     },
     "execution_count": 38,
     "metadata": {},
     "output_type": "execute_result"
    }
   ],
   "source": [
    "# type of the array\n",
    "\n",
    "type(arr1D)"
   ]
  },
  {
   "cell_type": "code",
   "execution_count": 39,
   "metadata": {},
   "outputs": [
    {
     "data": {
      "text/plain": [
       "array([[1, 2],\n",
       "       [3, 4]])"
      ]
     },
     "execution_count": 39,
     "metadata": {},
     "output_type": "execute_result"
    }
   ],
   "source": [
    "# Creating 2D ndarrays\n",
    "\n",
    "arr2D = np.array([[1,2],[3,4]])\n",
    "arr2D"
   ]
  },
  {
   "cell_type": "markdown",
   "metadata": {},
   "source": [
    "# Creating any-dimension ndarrays"
   ]
  },
  {
   "cell_type": "code",
   "execution_count": 40,
   "metadata": {},
   "outputs": [
    {
     "data": {
      "text/plain": [
       "array([[[[ 0,  1],\n",
       "         [ 2,  3]],\n",
       "\n",
       "        [[ 4,  5],\n",
       "         [ 6,  7]]],\n",
       "\n",
       "\n",
       "       [[[ 8,  9],\n",
       "         [10, 11]],\n",
       "\n",
       "        [[12, 13],\n",
       "         [14, 15]]]])"
      ]
     },
     "execution_count": 40,
     "metadata": {},
     "output_type": "execute_result"
    }
   ],
   "source": [
    "# creating and ndarray of 2x2x2x2 dimension\n",
    "\n",
    "arr4D = np.array(range(16)).reshape((2,2,2,2))\n",
    "arr4D"
   ]
  },
  {
   "cell_type": "markdown",
   "metadata": {},
   "source": [
    "# Creating and ndarray with np.zeros(....)"
   ]
  },
  {
   "cell_type": "code",
   "execution_count": 41,
   "metadata": {},
   "outputs": [
    {
     "data": {
      "text/plain": [
       "array([[0., 0., 0., 0., 0.],\n",
       "       [0., 0., 0., 0., 0.]])"
      ]
     },
     "execution_count": 41,
     "metadata": {},
     "output_type": "execute_result"
    }
   ],
   "source": [
    "\n",
    "np.zeros(shape=(2,5))"
   ]
  },
  {
   "cell_type": "markdown",
   "metadata": {},
   "source": [
    "# Creating and ndarray wiht np.ones(...)"
   ]
  },
  {
   "cell_type": "code",
   "execution_count": 42,
   "metadata": {},
   "outputs": [
    {
     "data": {
      "text/plain": [
       "array([[1., 1.],\n",
       "       [1., 1.]])"
      ]
     },
     "execution_count": 42,
     "metadata": {},
     "output_type": "execute_result"
    }
   ],
   "source": [
    "np.ones(shape=(2,2))"
   ]
  },
  {
   "cell_type": "markdown",
   "metadata": {},
   "source": [
    "# Creating and ndarray with np.indentity(.....)"
   ]
  },
  {
   "cell_type": "code",
   "execution_count": 43,
   "metadata": {},
   "outputs": [
    {
     "data": {
      "text/plain": [
       "array([[1., 0., 0.],\n",
       "       [0., 1., 0.],\n",
       "       [0., 0., 1.]])"
      ]
     },
     "execution_count": 43,
     "metadata": {},
     "output_type": "execute_result"
    }
   ],
   "source": [
    "np.identity(3)"
   ]
  },
  {
   "cell_type": "markdown",
   "metadata": {},
   "source": [
    "# Creating and ndarray with np.arrange(...)"
   ]
  },
  {
   "cell_type": "code",
   "execution_count": 44,
   "metadata": {},
   "outputs": [
    {
     "data": {
      "text/plain": [
       "array([0, 1, 2, 3, 4])"
      ]
     },
     "execution_count": 44,
     "metadata": {},
     "output_type": "execute_result"
    }
   ],
   "source": [
    "np.arange(5)"
   ]
  },
  {
   "cell_type": "markdown",
   "metadata": {},
   "source": [
    "# Creating an ndarray with np.random.randn(...)"
   ]
  },
  {
   "cell_type": "code",
   "execution_count": 45,
   "metadata": {},
   "outputs": [
    {
     "data": {
      "text/plain": [
       "array([[-0.28663255, -0.10389852],\n",
       "       [-2.59226973, -0.4950681 ]])"
      ]
     },
     "execution_count": 45,
     "metadata": {},
     "output_type": "execute_result"
    }
   ],
   "source": [
    "np.random.randn(2,2)"
   ]
  },
  {
   "cell_type": "markdown",
   "metadata": {},
   "source": [
    "# Creating a numpy.float64 array"
   ]
  },
  {
   "cell_type": "code",
   "execution_count": 46,
   "metadata": {},
   "outputs": [
    {
     "data": {
      "text/plain": [
       "array([-1.,  0.,  1.])"
      ]
     },
     "execution_count": 46,
     "metadata": {},
     "output_type": "execute_result"
    }
   ],
   "source": [
    "np.array([-1,0,1],dtype = np.float64)"
   ]
  },
  {
   "cell_type": "markdown",
   "metadata": {},
   "source": [
    "# Creating a numpy.bool array"
   ]
  },
  {
   "cell_type": "code",
   "execution_count": 47,
   "metadata": {},
   "outputs": [
    {
     "data": {
      "text/plain": [
       "array([ True, False,  True])"
      ]
     },
     "execution_count": 47,
     "metadata": {},
     "output_type": "execute_result"
    }
   ],
   "source": [
    "np.array([-1,0,1],dtype=bool)"
   ]
  },
  {
   "cell_type": "markdown",
   "metadata": {},
   "source": [
    "# ndarrays dtype attribute\n",
    "\n"
   ]
  },
  {
   "cell_type": "code",
   "execution_count": 48,
   "metadata": {},
   "outputs": [
    {
     "data": {
      "text/plain": [
       "dtype('float64')"
      ]
     },
     "execution_count": 48,
     "metadata": {},
     "output_type": "execute_result"
    }
   ],
   "source": [
    "arr1D.dtype"
   ]
  },
  {
   "cell_type": "markdown",
   "metadata": {},
   "source": [
    "# Converting underlying data types of ndarray with numpy.ndarrays.astype(...)"
   ]
  },
  {
   "cell_type": "code",
   "execution_count": 49,
   "metadata": {},
   "outputs": [
    {
     "data": {
      "text/plain": [
       "dtype('int64')"
      ]
     },
     "execution_count": 49,
     "metadata": {},
     "output_type": "execute_result"
    }
   ],
   "source": [
    "# converting arr1D from np.float64 to np.int64, we use the following\n",
    "arr1D.astype(np.int64).dtype"
   ]
  },
  {
   "cell_type": "markdown",
   "metadata": {},
   "source": [
    "# Direct access to ndarray's element\n",
    "\n"
   ]
  },
  {
   "cell_type": "code",
   "execution_count": 50,
   "metadata": {},
   "outputs": [
    {
     "name": "stdout",
     "output_type": "stream",
     "text": [
      "[[ 0.77787163 -1.77197428 -1.34001923]\n",
      " [-0.44087757  0.75400284 -1.1536232 ]\n",
      " [ 0.27296266 -0.67201968  0.48011441]]\n",
      "[ 0.77787163 -1.77197428 -1.34001923]\n",
      "-1.7719742846808837\n"
     ]
    },
    {
     "data": {
      "text/plain": [
       "array([ 0.27296266, -0.67201968,  0.48011441])"
      ]
     },
     "execution_count": 50,
     "metadata": {},
     "output_type": "execute_result"
    }
   ],
   "source": [
    "arr = np.random.randn(3,3)\n",
    "print(arr)\n",
    "\n",
    "# indexing the first element with integer index 0, as follows:\n",
    "print(arr[0])\n",
    "\n",
    "# accessing the element at the second column of the first row \n",
    "print(arr[0][1])\n",
    "\n",
    "# getting the end of the ndarray\n",
    "arr[-1]"
   ]
  },
  {
   "cell_type": "markdown",
   "metadata": {},
   "source": [
    "# ndarray slicing\n",
    "While single ndarray access is useful, for bulk processing we require access to multiple\n",
    "elements of the array at once(for example, if the ndarray contains all daily prices of an asset, we might want to process\n",
    "only all Monday's prices)\n"
   ]
  },
  {
   "cell_type": "markdown",
   "metadata": {},
   "source": [
    "# Acessing all ndarray elements after the first one"
   ]
  },
  {
   "cell_type": "code",
   "execution_count": 51,
   "metadata": {},
   "outputs": [
    {
     "data": {
      "text/plain": [
       "array([[-0.44087757,  0.75400284, -1.1536232 ],\n",
       "       [ 0.27296266, -0.67201968,  0.48011441]])"
      ]
     },
     "execution_count": 51,
     "metadata": {},
     "output_type": "execute_result"
    }
   ],
   "source": [
    "arr[1:]"
   ]
  },
  {
   "cell_type": "markdown",
   "metadata": {},
   "source": [
    "# Fetching all rows, starting from row2 and columns1 and 2"
   ]
  },
  {
   "cell_type": "code",
   "execution_count": 52,
   "metadata": {},
   "outputs": [
    {
     "data": {
      "text/plain": [
       "array([[-0.44087757,  0.75400284],\n",
       "       [ 0.27296266, -0.67201968]])"
      ]
     },
     "execution_count": 52,
     "metadata": {},
     "output_type": "execute_result"
    }
   ],
   "source": [
    "arr[1:,:2]"
   ]
  },
  {
   "cell_type": "markdown",
   "metadata": {},
   "source": [
    "# Slicing with negative indices\n",
    "\n",
    "This is a less intuitive way of finding the slice of an element at the seccond row and at the second column"
   ]
  },
  {
   "cell_type": "code",
   "execution_count": 53,
   "metadata": {},
   "outputs": [
    {
     "data": {
      "text/plain": [
       "array([[0.75400284]])"
      ]
     },
     "execution_count": 53,
     "metadata": {},
     "output_type": "execute_result"
    }
   ],
   "source": [
    "arr[1:2,-2:-1]"
   ]
  },
  {
   "cell_type": "markdown",
   "metadata": {},
   "source": [
    "# Slicing with no indices\n",
    "\n",
    "Slicing with no indices yields the entire row/column. The follwoing code generates a slice containing \n",
    "all elements on the third row"
   ]
  },
  {
   "cell_type": "code",
   "execution_count": 54,
   "metadata": {},
   "outputs": [
    {
     "name": "stdout",
     "output_type": "stream",
     "text": [
      "[ 0.27296266 -0.67201968  0.48011441]\n"
     ]
    },
    {
     "data": {
      "text/plain": [
       "array([[ 0.77787163, -1.77197428, -1.34001923],\n",
       "       [-0.44087757,  0.75400284, -1.1536232 ],\n",
       "       [ 0.27296266, -0.67201968,  0.48011441]])"
      ]
     },
     "execution_count": 54,
     "metadata": {},
     "output_type": "execute_result"
    }
   ],
   "source": [
    "print(arr[:][2])\n",
    "\n",
    "arr[:][:]\n"
   ]
  },
  {
   "cell_type": "markdown",
   "metadata": {},
   "source": [
    "# Setting values of a slice to 0\n",
    "\n",
    "Frequently, we will need to set certain values of an ndarray to a given value"
   ]
  },
  {
   "cell_type": "code",
   "execution_count": 55,
   "metadata": {},
   "outputs": [
    {
     "name": "stdout",
     "output_type": "stream",
     "text": [
      "[[-0.44087757  0.75400284 -1.1536232 ]]\n",
      "[[0. 0. 0.]]\n"
     ]
    },
    {
     "data": {
      "text/plain": [
       "array([[ 0.77787163, -1.77197428, -1.34001923],\n",
       "       [ 0.        ,  0.        ,  0.        ],\n",
       "       [ 0.27296266, -0.67201968,  0.48011441]])"
      ]
     },
     "execution_count": 55,
     "metadata": {},
     "output_type": "execute_result"
    }
   ],
   "source": [
    "arr1 = arr[1:2]\n",
    "print(arr1)\n",
    "\n",
    "# let's set every element of arr1 to the value 0, as follows\n",
    "arr1[:] = 0\n",
    "print(arr1)\n",
    "\n",
    "arr"
   ]
  },
  {
   "cell_type": "markdown",
   "metadata": {},
   "source": [
    "# Note\n",
    "\n",
    "ndarray slices are views into the original ndarrays not copies\n",
    "\n",
    "To create a copy as an ndarray we explicitly call the numpy.ndarray.copy(.....)"
   ]
  },
  {
   "cell_type": "code",
   "execution_count": 56,
   "metadata": {},
   "outputs": [
    {
     "name": "stdout",
     "output_type": "stream",
     "text": [
      "[[ 0.77787163 -1.77197428 -1.34001923]\n",
      " [ 1.          1.          1.        ]\n",
      " [ 0.27296266 -0.67201968  0.48011441]]\n"
     ]
    },
    {
     "data": {
      "text/plain": [
       "array([[ 0.77787163, -1.77197428, -1.34001923],\n",
       "       [ 0.        ,  0.        ,  0.        ],\n",
       "       [ 0.27296266, -0.67201968,  0.48011441]])"
      ]
     },
     "execution_count": 56,
     "metadata": {},
     "output_type": "execute_result"
    }
   ],
   "source": [
    "arr_copy = arr.copy()\n",
    "\n",
    "arr_copy[1:2] = 1\n",
    "\n",
    "print(arr_copy)\n",
    "arr"
   ]
  },
  {
   "cell_type": "markdown",
   "metadata": {},
   "source": [
    "# Boolean indexing\n",
    "Numpy provides multiple ways of indexing ndarrays.Numpy arrays can be indexed by using conditions that evaluate\n",
    "to True or False.Let's start by regenerating an arr ndarray,as follows:"
   ]
  },
  {
   "cell_type": "code",
   "execution_count": 57,
   "metadata": {},
   "outputs": [
    {
     "name": "stdout",
     "output_type": "stream",
     "text": [
      "[[ 0.05083773 -1.12732373  0.6395469 ]\n",
      " [ 0.72571487 -0.16193655  2.14630936]\n",
      " [-0.59737481 -1.93530074  0.23869635]]\n",
      "[[False  True False]\n",
      " [False  True False]\n",
      " [ True  True False]]\n",
      "[-1.12732373 -0.16193655 -0.59737481 -1.93530074]\n",
      "[[ True False  True]\n",
      " [ True  True False]\n",
      " [ True False  True]]\n"
     ]
    },
    {
     "data": {
      "text/plain": [
       "array([ 0.05083773,  0.6395469 ,  0.72571487, -0.16193655, -0.59737481,\n",
       "        0.23869635])"
      ]
     },
     "execution_count": 57,
     "metadata": {},
     "output_type": "execute_result"
    }
   ],
   "source": [
    "arr = np.random.randn(3,3)\n",
    "print(arr)\n",
    "\n",
    "print(np.less(arr,0))\n",
    "\n",
    "# we can use that arra as index to arr to find the actual negative elements as follows\n",
    "\n",
    "print(arr[(arr < 0)]) \n",
    "\n",
    "\n",
    "# we can combine multip;e conditions with & (and) ns | (or) operators.\n",
    "# Pythons & and | Boolean operators do not work on ndarrays since they are for scalars\n",
    "\n",
    "\n",
    "\n",
    "print((arr > -1) & (arr < 1))\n",
    "\n",
    "arr[((arr > -1) & (arr < 1))]\n"
   ]
  },
  {
   "cell_type": "markdown",
   "metadata": {},
   "source": [
    "# Indexing with arrays\n",
    "\n",
    "ndarray indexing also allows us to directly pass lists of indices of interst.Let's first \n",
    "generate an ndarray of randome values to use, as follows:\n",
    "\n"
   ]
  },
  {
   "cell_type": "code",
   "execution_count": 58,
   "metadata": {},
   "outputs": [
    {
     "name": "stdout",
     "output_type": "stream",
     "text": [
      "[[ 0.05083773 -1.12732373  0.6395469 ]\n",
      " [ 0.72571487 -0.16193655  2.14630936]\n",
      " [-0.59737481 -1.93530074  0.23869635]]\n",
      "\n",
      "[[ 0.05083773 -1.12732373  0.6395469 ]\n",
      " [-0.59737481 -1.93530074  0.23869635]]\n",
      "\n",
      "[-1.12732373 -1.93530074]\n"
     ]
    },
    {
     "data": {
      "text/plain": [
       "array([[-0.59737481, -1.93530074,  0.23869635],\n",
       "       [ 0.05083773, -1.12732373,  0.6395469 ]])"
      ]
     },
     "execution_count": 58,
     "metadata": {},
     "output_type": "execute_result"
    }
   ],
   "source": [
    "print(arr)\n",
    "\n",
    "# select the first the first and third rows, using the following code\n",
    "print(\"\")\n",
    "print(arr[[0,2]])\n",
    "\n",
    "# we can combine row and column indexing using arrays, as follows:\n",
    "print(\"\")\n",
    "print(arr[[0,2],[1]])\n",
    "\n",
    "# the folowing code picks up the third row followed by the second row\n",
    "arr[[2,0]] \n"
   ]
  },
  {
   "cell_type": "markdown",
   "metadata": {},
   "source": [
    "# Basic ndarray operations\n"
   ]
  },
  {
   "cell_type": "code",
   "execution_count": 59,
   "metadata": {},
   "outputs": [
    {
     "data": {
      "text/plain": [
       "array([[1, 2],\n",
       "       [3, 4]])"
      ]
     },
     "execution_count": 59,
     "metadata": {},
     "output_type": "execute_result"
    }
   ],
   "source": [
    "arr2D"
   ]
  },
  {
   "cell_type": "code",
   "execution_count": 60,
   "metadata": {},
   "outputs": [
    {
     "data": {
      "text/plain": [
       "array([[ 4,  8],\n",
       "       [12, 16]])"
      ]
     },
     "execution_count": 60,
     "metadata": {},
     "output_type": "execute_result"
    }
   ],
   "source": [
    "# Scalar multiplication with an ndarray\n",
    "arr2D * 4"
   ]
  },
  {
   "cell_type": "markdown",
   "metadata": {},
   "source": [
    "# Linear combinations of ndarrays\n",
    "\n",
    "The following is a combinations of scalar and ndarrays operations,as well as operation between ndarrays\n",
    "\n"
   ]
  },
  {
   "cell_type": "code",
   "execution_count": 61,
   "metadata": {},
   "outputs": [
    {
     "data": {
      "text/plain": [
       "array([[ 5, 10],\n",
       "       [15, 20]])"
      ]
     },
     "execution_count": 61,
     "metadata": {},
     "output_type": "execute_result"
    }
   ],
   "source": [
    "2 * arr2D + 3*arr2D"
   ]
  },
  {
   "cell_type": "markdown",
   "metadata": {},
   "source": [
    "# Exponentiation of ndarrays"
   ]
  },
  {
   "cell_type": "code",
   "execution_count": 62,
   "metadata": {},
   "outputs": [
    {
     "data": {
      "text/plain": [
       "array([[ 1,  4],\n",
       "       [ 9, 16]])"
      ]
     },
     "execution_count": 62,
     "metadata": {},
     "output_type": "execute_result"
    }
   ],
   "source": [
    "arr2D ** 2"
   ]
  },
  {
   "cell_type": "markdown",
   "metadata": {},
   "source": [
    "# Addition of an ndarray with a scalar"
   ]
  },
  {
   "cell_type": "code",
   "execution_count": 63,
   "metadata": {},
   "outputs": [
    {
     "data": {
      "text/plain": [
       "array([[11, 12],\n",
       "       [13, 14]])"
      ]
     },
     "execution_count": 63,
     "metadata": {},
     "output_type": "execute_result"
    }
   ],
   "source": [
    "arr2D + 10"
   ]
  },
  {
   "cell_type": "markdown",
   "metadata": {},
   "source": [
    "# Transposing a matrix"
   ]
  },
  {
   "cell_type": "code",
   "execution_count": 64,
   "metadata": {},
   "outputs": [
    {
     "data": {
      "text/plain": [
       "array([[1, 3],\n",
       "       [2, 4]])"
      ]
     },
     "execution_count": 64,
     "metadata": {},
     "output_type": "execute_result"
    }
   ],
   "source": [
    "arr2D.transpose()"
   ]
  },
  {
   "cell_type": "markdown",
   "metadata": {},
   "source": [
    "# Changing the layout of an ndarray\n",
    "\n",
    "The np.ndarray.reshape(...) method allows us to change the layout(shape) of \n",
    "the ndarray without changing its data to compatible shape\n",
    "\n"
   ]
  },
  {
   "cell_type": "code",
   "execution_count": 65,
   "metadata": {},
   "outputs": [
    {
     "name": "stdout",
     "output_type": "stream",
     "text": [
      "[[1]\n",
      " [2]\n",
      " [3]\n",
      " [4]]\n"
     ]
    },
    {
     "data": {
      "text/plain": [
       "array([[-0.20822801,  0.00236542,  0.08191605],\n",
       "       [ 0.52232833,  2.30153534,  0.69477351],\n",
       "       [-0.60125415,  1.63130956,  0.70061611]])"
      ]
     },
     "execution_count": 65,
     "metadata": {},
     "output_type": "execute_result"
    }
   ],
   "source": [
    "# For instance, to reshape arr2D from 2x2 to 4x1 , we use the following code\n",
    "print(arr2D.reshape((4,1)))\n",
    "\n",
    "# The following code example combines np.random.randn(....) and np.ndarray.reshape(....)\n",
    "# to create 3x3 ndarray of random values\n",
    "\n",
    "arr = np.random.randn(9).reshape((3,3))\n",
    "arr"
   ]
  },
  {
   "cell_type": "code",
   "execution_count": 66,
   "metadata": {},
   "outputs": [
    {
     "data": {
      "text/plain": [
       "-0.6012541543818718"
      ]
     },
     "execution_count": 66,
     "metadata": {},
     "output_type": "execute_result"
    }
   ],
   "source": [
    "# Finding the minimum value in an ndarray\n",
    "np.min(arr)"
   ]
  },
  {
   "cell_type": "code",
   "execution_count": 67,
   "metadata": {},
   "outputs": [
    {
     "data": {
      "text/plain": [
       "array([[0.20822801, 0.00236542, 0.08191605],\n",
       "       [0.52232833, 2.30153534, 0.69477351],\n",
       "       [0.60125415, 1.63130956, 0.70061611]])"
      ]
     },
     "execution_count": 67,
     "metadata": {},
     "output_type": "execute_result"
    }
   ],
   "source": [
    "# Calculating the absolute value\n",
    "\n",
    "np.abs(arr)"
   ]
  },
  {
   "cell_type": "code",
   "execution_count": 68,
   "metadata": {},
   "outputs": [
    {
     "name": "stdout",
     "output_type": "stream",
     "text": [
      "0.5694846824610219\n",
      "[-0.09571795  1.31173677  0.49243522]\n"
     ]
    },
    {
     "data": {
      "text/plain": [
       "array([-0.04131551,  1.17287906,  0.5768905 ])"
      ]
     },
     "execution_count": 68,
     "metadata": {},
     "output_type": "execute_result"
    }
   ],
   "source": [
    "# Calculating the mean of an ndarray\n",
    "print(np.mean(arr))\n",
    "\n",
    "# Finding the mean along the columns by specifying the axis = parameter, as follows\n",
    "print(np.mean(arr,axis=0))\n",
    "\n",
    "# Finding the mean along the rows by running the following code\n",
    "np.mean(arr,axis=1)"
   ]
  },
  {
   "cell_type": "markdown",
   "metadata": {},
   "source": [
    "# Finding the index of the maximum value in an ndarray\n",
    "Often, we're interested in finding where in an array its largest value is. The np.armax(...) does it\n"
   ]
  },
  {
   "cell_type": "code",
   "execution_count": 75,
   "metadata": {},
   "outputs": [
    {
     "name": "stdout",
     "output_type": "stream",
     "text": [
      "4\n"
     ]
    },
    {
     "data": {
      "text/plain": [
       "array([2, 1, 1], dtype=int64)"
      ]
     },
     "execution_count": 75,
     "metadata": {},
     "output_type": "execute_result"
    }
   ],
   "source": [
    "print(np.argmax(arr))\n",
    "\n",
    "\n",
    "# The np.argmax(....) method also accepts the axis =parameter to perform operation on row-wise\n",
    "\n",
    "np.argmax(arr,axis=1)\n",
    "\n"
   ]
  },
  {
   "cell_type": "markdown",
   "metadata": {},
   "source": [
    "# Calculating the cumulative sum of elements of an ndarray\n",
    "\n",
    "Notice the differnce between a cumulative sum and a sum . A cumulative sum is an array \n",
    "of a  running total,whereas a sum is a single number\n",
    "\n"
   ]
  },
  {
   "cell_type": "code",
   "execution_count": 79,
   "metadata": {},
   "outputs": [
    {
     "name": "stdout",
     "output_type": "stream",
     "text": [
      "[[-0.20822801  0.00236542  0.08191605]\n",
      " [ 0.52232833  2.30153534  0.69477351]\n",
      " [-0.60125415  1.63130956  0.70061611]]\n",
      "[-0.20822801 -0.20586259 -0.12394654  0.39838178  2.69991712  3.39469063\n",
      "  2.79343647  4.42474603  5.12536214]\n"
     ]
    },
    {
     "data": {
      "text/plain": [
       "array([[-0.20822801, -0.20586259, -0.12394654],\n",
       "       [ 0.52232833,  2.82386366,  3.51863717],\n",
       "       [-0.60125415,  1.03005541,  1.73067151]])"
      ]
     },
     "execution_count": 79,
     "metadata": {},
     "output_type": "execute_result"
    }
   ],
   "source": [
    "print(arr)\n",
    "\n",
    "# cumulative sum\n",
    "print(np.cumsum(arr))\n",
    "\n",
    "\n",
    "# cumulative sum along the row\n",
    "np.cumsum(arr,axis=1)"
   ]
  },
  {
   "cell_type": "markdown",
   "metadata": {},
   "source": [
    "# Finding NaNs in an ndarray\n",
    "Missing or unknown values are often represented in Numpy using a Not a number\n",
    "(NaN) value. For many numerical methods, these must be removed or replaced with \n",
    "an interpolation\n",
    "\n"
   ]
  },
  {
   "cell_type": "code",
   "execution_count": 80,
   "metadata": {},
   "outputs": [
    {
     "data": {
      "text/plain": [
       "array([[-0.20822801,  0.00236542,  0.08191605],\n",
       "       [        nan,         nan,         nan],\n",
       "       [-0.60125415,  1.63130956,  0.70061611]])"
      ]
     },
     "execution_count": 80,
     "metadata": {},
     "output_type": "execute_result"
    }
   ],
   "source": [
    "# setting the second row to Nan\n",
    "arr[1,:] = np.nan;\n",
    "arr"
   ]
  },
  {
   "cell_type": "code",
   "execution_count": 81,
   "metadata": {},
   "outputs": [
    {
     "data": {
      "text/plain": [
       "array([[False, False, False],\n",
       "       [ True,  True,  True],\n",
       "       [False, False, False]])"
      ]
     },
     "execution_count": 81,
     "metadata": {},
     "output_type": "execute_result"
    }
   ],
   "source": [
    "# finding if Nan values exist\n",
    "np.isnan(arr)"
   ]
  },
  {
   "cell_type": "markdown",
   "metadata": {},
   "source": [
    "# Finding the truth values of x1 > x2 of two ndarrays\n",
    "\n",
    "Boolean ndarrays are an efficient way of obtaining indices for values of interest."
   ]
  },
  {
   "cell_type": "code",
   "execution_count": 82,
   "metadata": {},
   "outputs": [
    {
     "data": {
      "text/plain": [
       "array([[-0.50418891, -2.39554485, -1.49808908],\n",
       "       [-0.39923548, -0.01856961,  0.50321137],\n",
       "       [ 1.58168984,  0.93755709, -0.6604453 ]])"
      ]
     },
     "execution_count": 82,
     "metadata": {},
     "output_type": "execute_result"
    }
   ],
   "source": [
    "arr1 = np.random.randn(9).reshape((3,3))\n",
    "\n",
    "arr1"
   ]
  },
  {
   "cell_type": "code",
   "execution_count": 83,
   "metadata": {},
   "outputs": [
    {
     "data": {
      "text/plain": [
       "array([[ 9.39501718e-02,  1.94408822e-01, -5.93823846e-04],\n",
       "       [-2.06527607e-02,  8.09464196e-01, -1.07895617e+00],\n",
       "       [-1.15948797e+00,  1.38696206e-01, -1.25295085e+00]])"
      ]
     },
     "execution_count": 83,
     "metadata": {},
     "output_type": "execute_result"
    }
   ],
   "source": [
    "# Similarly,let's build another arr2 ndarray, as follows:\n",
    "arr2 = np.random.randn(9).reshape((3,3))\n",
    "arr2"
   ]
  },
  {
   "cell_type": "code",
   "execution_count": 84,
   "metadata": {},
   "outputs": [
    {
     "data": {
      "text/plain": [
       "array([[False, False, False],\n",
       "       [False, False,  True],\n",
       "       [ True,  True,  True]])"
      ]
     },
     "execution_count": 84,
     "metadata": {},
     "output_type": "execute_result"
    }
   ],
   "source": [
    "# The np.greater(....) function is a binary ufunc that generates a True value\n",
    "# when the left-hand-side value in the ndarray is greater  than right hand side in the ndarray\n",
    "\n",
    "np.greater(arr1,arr2)"
   ]
  },
  {
   "cell_type": "code",
   "execution_count": 85,
   "metadata": {},
   "outputs": [
    {
     "data": {
      "text/plain": [
       "array([[False, False, False],\n",
       "       [False, False,  True],\n",
       "       [ True,  True,  True]])"
      ]
     },
     "execution_count": 85,
     "metadata": {},
     "output_type": "execute_result"
    }
   ],
   "source": [
    "# output is the same as above\n",
    "\n",
    "arr1 > arr2"
   ]
  },
  {
   "cell_type": "markdown",
   "metadata": {},
   "source": [
    "# any and all Boolean operations on ndarrays\n",
    "\n",
    "In addition to relational operators, Numpy supports additional methods for testing\n",
    "conditions on matrices values"
   ]
  },
  {
   "cell_type": "code",
   "execution_count": 86,
   "metadata": {},
   "outputs": [
    {
     "data": {
      "text/plain": [
       "array([[ True,  True,  True],\n",
       "       [False, False, False],\n",
       "       [False, False, False]])"
      ]
     },
     "execution_count": 86,
     "metadata": {},
     "output_type": "execute_result"
    }
   ],
   "source": [
    "arr_bool = (arr > -0.5) & (arr < 0.5)\n",
    "\n",
    "arr_bool"
   ]
  },
  {
   "cell_type": "code",
   "execution_count": 87,
   "metadata": {},
   "outputs": [
    {
     "data": {
      "text/plain": [
       "True"
      ]
     },
     "execution_count": 87,
     "metadata": {},
     "output_type": "execute_result"
    }
   ],
   "source": [
    "# The following numpy.ndarray.any() method returns True if any element is True otherwise returns False\n",
    "\n",
    "arr_bool.any()"
   ]
  },
  {
   "cell_type": "code",
   "execution_count": 88,
   "metadata": {},
   "outputs": [
    {
     "data": {
      "text/plain": [
       "array([ True, False, False])"
      ]
     },
     "execution_count": 88,
     "metadata": {},
     "output_type": "execute_result"
    }
   ],
   "source": [
    "# Again, it accepts the common axis= parameter and behaves as expected\n",
    "arr_bool.any(axis=1)"
   ]
  },
  {
   "cell_type": "code",
   "execution_count": 89,
   "metadata": {},
   "outputs": [
    {
     "data": {
      "text/plain": [
       "False"
      ]
     },
     "execution_count": 89,
     "metadata": {},
     "output_type": "execute_result"
    }
   ],
   "source": [
    "# The following numpy.ndarray.all() method returns True when all elements are True, and False otherwise\n",
    "arr_bool.all()"
   ]
  },
  {
   "cell_type": "code",
   "execution_count": 90,
   "metadata": {},
   "outputs": [
    {
     "data": {
      "text/plain": [
       "array([ True, False, False])"
      ]
     },
     "execution_count": 90,
     "metadata": {},
     "output_type": "execute_result"
    }
   ],
   "source": [
    "# It also accepts the axis= parameter, as follows:\n",
    "arr_bool.all(axis=1)"
   ]
  },
  {
   "cell_type": "markdown",
   "metadata": {},
   "source": [
    "# Sorting ndarrays\n",
    "\n",
    "Finding an element in a sorted ndarray is faster than processing all elements of the ndarray"
   ]
  },
  {
   "cell_type": "code",
   "execution_count": 91,
   "metadata": {},
   "outputs": [
    {
     "data": {
      "text/plain": [
       "array([ 0.91420705,  0.68876904, -2.06661513,  0.47546496, -1.26748921,\n",
       "       -0.56507078, -0.0114976 , -1.00571721, -2.36131698,  0.01416545])"
      ]
     },
     "execution_count": 91,
     "metadata": {},
     "output_type": "execute_result"
    }
   ],
   "source": [
    "arr1D = np.random.randn(10)\n",
    "arr1D"
   ]
  },
  {
   "cell_type": "code",
   "execution_count": 92,
   "metadata": {},
   "outputs": [
    {
     "data": {
      "text/plain": [
       "array([-2.36131698, -2.06661513, -1.26748921, -1.00571721, -0.56507078,\n",
       "       -0.0114976 ,  0.01416545,  0.47546496,  0.68876904,  0.91420705])"
      ]
     },
     "execution_count": 92,
     "metadata": {},
     "output_type": "execute_result"
    }
   ],
   "source": [
    "# The np.sort(.....) method is pretty straightforward, as can be seen here:\n",
    "np.sort(arr1D)"
   ]
  },
  {
   "cell_type": "code",
   "execution_count": null,
   "metadata": {},
   "outputs": [],
   "source": []
  }
 ],
 "metadata": {
  "kernelspec": {
   "display_name": "Python 3.10.7 64-bit",
   "language": "python",
   "name": "python3"
  },
  "language_info": {
   "codemirror_mode": {
    "name": "ipython",
    "version": 3
   },
   "file_extension": ".py",
   "mimetype": "text/x-python",
   "name": "python",
   "nbconvert_exporter": "python",
   "pygments_lexer": "ipython3",
   "version": "3.10.7"
  },
  "orig_nbformat": 4,
  "vscode": {
   "interpreter": {
    "hash": "23abe47fcab342a79f5b9b2c3cef11695b853d3beb9df519a316033bcc21e26f"
   }
  }
 },
 "nbformat": 4,
 "nbformat_minor": 2
}
