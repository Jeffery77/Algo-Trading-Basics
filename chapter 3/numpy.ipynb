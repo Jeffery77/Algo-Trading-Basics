{
 "cells": [
  {
   "cell_type": "markdown",
   "metadata": {},
   "source": [
    "# Creating Numpy ndarrays\n"
   ]
  },
  {
   "cell_type": "code",
   "execution_count": 61,
   "metadata": {},
   "outputs": [],
   "source": [
    "import numpy as np"
   ]
  },
  {
   "cell_type": "code",
   "execution_count": 62,
   "metadata": {},
   "outputs": [
    {
     "data": {
      "text/plain": [
       "array([1.1, 2.2, 3.3, 4.4, 5.5])"
      ]
     },
     "execution_count": 62,
     "metadata": {},
     "output_type": "execute_result"
    }
   ],
   "source": [
    "# Creating 1D ndarrays\n",
    "\n",
    "arr1D = np.array([1.1,2.2,3.3,4.4,5.5])\n",
    "arr1D"
   ]
  },
  {
   "cell_type": "code",
   "execution_count": 63,
   "metadata": {},
   "outputs": [
    {
     "data": {
      "text/plain": [
       "numpy.ndarray"
      ]
     },
     "execution_count": 63,
     "metadata": {},
     "output_type": "execute_result"
    }
   ],
   "source": [
    "# type of the array\n",
    "\n",
    "type(arr1D)"
   ]
  },
  {
   "cell_type": "code",
   "execution_count": 64,
   "metadata": {},
   "outputs": [
    {
     "data": {
      "text/plain": [
       "array([[1, 2],\n",
       "       [3, 4]])"
      ]
     },
     "execution_count": 64,
     "metadata": {},
     "output_type": "execute_result"
    }
   ],
   "source": [
    "# Creating 2D ndarrays\n",
    "\n",
    "arr2D = np.array([[1,2],[3,4]])\n",
    "arr2D"
   ]
  },
  {
   "cell_type": "markdown",
   "metadata": {},
   "source": [
    "# Creating any-dimension ndarrays"
   ]
  },
  {
   "cell_type": "code",
   "execution_count": 65,
   "metadata": {},
   "outputs": [
    {
     "data": {
      "text/plain": [
       "array([[[[ 0,  1],\n",
       "         [ 2,  3]],\n",
       "\n",
       "        [[ 4,  5],\n",
       "         [ 6,  7]]],\n",
       "\n",
       "\n",
       "       [[[ 8,  9],\n",
       "         [10, 11]],\n",
       "\n",
       "        [[12, 13],\n",
       "         [14, 15]]]])"
      ]
     },
     "execution_count": 65,
     "metadata": {},
     "output_type": "execute_result"
    }
   ],
   "source": [
    "# creating and ndarray of 2x2x2x2 dimension\n",
    "\n",
    "arr4D = np.array(range(16)).reshape((2,2,2,2))\n",
    "arr4D"
   ]
  },
  {
   "cell_type": "markdown",
   "metadata": {},
   "source": [
    "# Creating and ndarray with np.zeros(....)"
   ]
  },
  {
   "cell_type": "code",
   "execution_count": 66,
   "metadata": {},
   "outputs": [
    {
     "data": {
      "text/plain": [
       "array([[0., 0., 0., 0., 0.],\n",
       "       [0., 0., 0., 0., 0.]])"
      ]
     },
     "execution_count": 66,
     "metadata": {},
     "output_type": "execute_result"
    }
   ],
   "source": [
    "\n",
    "np.zeros(shape=(2,5))"
   ]
  },
  {
   "cell_type": "markdown",
   "metadata": {},
   "source": [
    "# Creating and ndarray wiht np.ones(...)"
   ]
  },
  {
   "cell_type": "code",
   "execution_count": 67,
   "metadata": {},
   "outputs": [
    {
     "data": {
      "text/plain": [
       "array([[1., 1.],\n",
       "       [1., 1.]])"
      ]
     },
     "execution_count": 67,
     "metadata": {},
     "output_type": "execute_result"
    }
   ],
   "source": [
    "np.ones(shape=(2,2))"
   ]
  },
  {
   "cell_type": "markdown",
   "metadata": {},
   "source": [
    "# Creating and ndarray with np.indentity(.....)"
   ]
  },
  {
   "cell_type": "code",
   "execution_count": 68,
   "metadata": {},
   "outputs": [
    {
     "data": {
      "text/plain": [
       "array([[1., 0., 0.],\n",
       "       [0., 1., 0.],\n",
       "       [0., 0., 1.]])"
      ]
     },
     "execution_count": 68,
     "metadata": {},
     "output_type": "execute_result"
    }
   ],
   "source": [
    "np.identity(3)"
   ]
  },
  {
   "cell_type": "markdown",
   "metadata": {},
   "source": [
    "# Creating and ndarray with np.arrange(...)"
   ]
  },
  {
   "cell_type": "code",
   "execution_count": 69,
   "metadata": {},
   "outputs": [
    {
     "data": {
      "text/plain": [
       "array([0, 1, 2, 3, 4])"
      ]
     },
     "execution_count": 69,
     "metadata": {},
     "output_type": "execute_result"
    }
   ],
   "source": [
    "np.arange(5)"
   ]
  },
  {
   "cell_type": "markdown",
   "metadata": {},
   "source": [
    "# Creating an ndarray with np.random.randn(...)"
   ]
  },
  {
   "cell_type": "code",
   "execution_count": 70,
   "metadata": {},
   "outputs": [
    {
     "data": {
      "text/plain": [
       "array([[ 1.15763675, -2.00557601],\n",
       "       [-0.77039039, -0.28864638]])"
      ]
     },
     "execution_count": 70,
     "metadata": {},
     "output_type": "execute_result"
    }
   ],
   "source": [
    "np.random.randn(2,2)"
   ]
  },
  {
   "cell_type": "markdown",
   "metadata": {},
   "source": [
    "# Creating a numpy.float64 array"
   ]
  },
  {
   "cell_type": "code",
   "execution_count": 71,
   "metadata": {},
   "outputs": [
    {
     "data": {
      "text/plain": [
       "array([-1.,  0.,  1.])"
      ]
     },
     "execution_count": 71,
     "metadata": {},
     "output_type": "execute_result"
    }
   ],
   "source": [
    "np.array([-1,0,1],dtype = np.float64)"
   ]
  },
  {
   "cell_type": "markdown",
   "metadata": {},
   "source": [
    "# Creating a numpy.bool array"
   ]
  },
  {
   "cell_type": "code",
   "execution_count": 72,
   "metadata": {},
   "outputs": [
    {
     "data": {
      "text/plain": [
       "array([ True, False,  True])"
      ]
     },
     "execution_count": 72,
     "metadata": {},
     "output_type": "execute_result"
    }
   ],
   "source": [
    "np.array([-1,0,1],dtype=bool)"
   ]
  },
  {
   "cell_type": "markdown",
   "metadata": {},
   "source": [
    "# ndarrays dtype attribute\n",
    "\n"
   ]
  },
  {
   "cell_type": "code",
   "execution_count": 73,
   "metadata": {},
   "outputs": [
    {
     "data": {
      "text/plain": [
       "dtype('float64')"
      ]
     },
     "execution_count": 73,
     "metadata": {},
     "output_type": "execute_result"
    }
   ],
   "source": [
    "arr1D.dtype"
   ]
  },
  {
   "cell_type": "markdown",
   "metadata": {},
   "source": [
    "# Converting underlying data types of ndarray with numpy.ndarrays.astype(...)"
   ]
  },
  {
   "cell_type": "code",
   "execution_count": 74,
   "metadata": {},
   "outputs": [
    {
     "data": {
      "text/plain": [
       "dtype('int64')"
      ]
     },
     "execution_count": 74,
     "metadata": {},
     "output_type": "execute_result"
    }
   ],
   "source": [
    "# converting arr1D from np.float64 to np.int64, we use the following\n",
    "arr1D.astype(np.int64).dtype"
   ]
  },
  {
   "cell_type": "markdown",
   "metadata": {},
   "source": [
    "# Direct access to ndarray's element\n",
    "\n"
   ]
  },
  {
   "cell_type": "code",
   "execution_count": 75,
   "metadata": {},
   "outputs": [
    {
     "name": "stdout",
     "output_type": "stream",
     "text": [
      "[[-0.46503341  0.07371438 -1.20504885]\n",
      " [-2.44245685 -1.29910053  0.76882467]\n",
      " [-1.57722694 -1.19430398 -0.50680821]]\n",
      "[-0.46503341  0.07371438 -1.20504885]\n",
      "0.0737143757705289\n"
     ]
    },
    {
     "data": {
      "text/plain": [
       "array([-1.57722694, -1.19430398, -0.50680821])"
      ]
     },
     "execution_count": 75,
     "metadata": {},
     "output_type": "execute_result"
    }
   ],
   "source": [
    "arr = np.random.randn(3,3)\n",
    "print(arr)\n",
    "\n",
    "# indexing the first element with integer index 0, as follows:\n",
    "print(arr[0])\n",
    "\n",
    "# accessing the element at the second column of the first row \n",
    "print(arr[0][1])\n",
    "\n",
    "# getting the end of the ndarray\n",
    "arr[-1]"
   ]
  },
  {
   "cell_type": "markdown",
   "metadata": {},
   "source": [
    "# ndarray slicing\n",
    "While single ndarray access is useful, for bulk processing we require access to multiple\n",
    "elements of the array at once(for example, if the ndarray contains all daily prices of an asset, we might want to process\n",
    "only all Monday's prices)\n"
   ]
  },
  {
   "cell_type": "markdown",
   "metadata": {},
   "source": [
    "# Acessing all ndarray elements after the first one"
   ]
  },
  {
   "cell_type": "code",
   "execution_count": 76,
   "metadata": {},
   "outputs": [
    {
     "data": {
      "text/plain": [
       "array([[-2.44245685, -1.29910053,  0.76882467],\n",
       "       [-1.57722694, -1.19430398, -0.50680821]])"
      ]
     },
     "execution_count": 76,
     "metadata": {},
     "output_type": "execute_result"
    }
   ],
   "source": [
    "arr[1:]"
   ]
  },
  {
   "cell_type": "markdown",
   "metadata": {},
   "source": [
    "# Fetching all rows, starting from row2 and columns1 and 2"
   ]
  },
  {
   "cell_type": "code",
   "execution_count": 77,
   "metadata": {},
   "outputs": [
    {
     "data": {
      "text/plain": [
       "array([[-2.44245685, -1.29910053],\n",
       "       [-1.57722694, -1.19430398]])"
      ]
     },
     "execution_count": 77,
     "metadata": {},
     "output_type": "execute_result"
    }
   ],
   "source": [
    "arr[1:,:2]"
   ]
  },
  {
   "cell_type": "markdown",
   "metadata": {},
   "source": [
    "# Slicing with negative indices\n",
    "\n",
    "This is a less intuitive way of finding the slice of an element at the seccond row and at the second column"
   ]
  },
  {
   "cell_type": "code",
   "execution_count": 78,
   "metadata": {},
   "outputs": [
    {
     "data": {
      "text/plain": [
       "array([[-1.29910053]])"
      ]
     },
     "execution_count": 78,
     "metadata": {},
     "output_type": "execute_result"
    }
   ],
   "source": [
    "arr[1:2,-2:-1]"
   ]
  },
  {
   "cell_type": "markdown",
   "metadata": {},
   "source": [
    "# Slicing with no indices\n",
    "\n",
    "Slicing with no indices yields the entire row/column. The follwoing code generates a slice containing \n",
    "all elements on the third row"
   ]
  },
  {
   "cell_type": "code",
   "execution_count": 79,
   "metadata": {},
   "outputs": [
    {
     "name": "stdout",
     "output_type": "stream",
     "text": [
      "[-1.57722694 -1.19430398 -0.50680821]\n"
     ]
    },
    {
     "data": {
      "text/plain": [
       "array([[-0.46503341,  0.07371438, -1.20504885],\n",
       "       [-2.44245685, -1.29910053,  0.76882467],\n",
       "       [-1.57722694, -1.19430398, -0.50680821]])"
      ]
     },
     "execution_count": 79,
     "metadata": {},
     "output_type": "execute_result"
    }
   ],
   "source": [
    "print(arr[:][2])\n",
    "\n",
    "arr[:][:]\n"
   ]
  },
  {
   "cell_type": "markdown",
   "metadata": {},
   "source": [
    "# Setting values of a slice to 0\n",
    "\n",
    "Frequently, we will need to set certain values of an ndarray to a given value"
   ]
  },
  {
   "cell_type": "code",
   "execution_count": 80,
   "metadata": {},
   "outputs": [
    {
     "name": "stdout",
     "output_type": "stream",
     "text": [
      "[[-2.44245685 -1.29910053  0.76882467]]\n",
      "[[0. 0. 0.]]\n"
     ]
    },
    {
     "data": {
      "text/plain": [
       "array([[-0.46503341,  0.07371438, -1.20504885],\n",
       "       [ 0.        ,  0.        ,  0.        ],\n",
       "       [-1.57722694, -1.19430398, -0.50680821]])"
      ]
     },
     "execution_count": 80,
     "metadata": {},
     "output_type": "execute_result"
    }
   ],
   "source": [
    "arr1 = arr[1:2]\n",
    "print(arr1)\n",
    "\n",
    "# let's set every element of arr1 to the value 0, as follows\n",
    "arr1[:] = 0\n",
    "print(arr1)\n",
    "\n",
    "arr"
   ]
  },
  {
   "cell_type": "markdown",
   "metadata": {},
   "source": [
    "# Note\n",
    "\n",
    "ndarray slices are views into the original ndarrays not copies\n",
    "\n",
    "To create a copy as an ndarray we explicitly call the numpy.ndarray.copy(.....)"
   ]
  },
  {
   "cell_type": "code",
   "execution_count": 81,
   "metadata": {},
   "outputs": [
    {
     "name": "stdout",
     "output_type": "stream",
     "text": [
      "[[-0.46503341  0.07371438 -1.20504885]\n",
      " [ 1.          1.          1.        ]\n",
      " [-1.57722694 -1.19430398 -0.50680821]]\n"
     ]
    },
    {
     "data": {
      "text/plain": [
       "array([[-0.46503341,  0.07371438, -1.20504885],\n",
       "       [ 0.        ,  0.        ,  0.        ],\n",
       "       [-1.57722694, -1.19430398, -0.50680821]])"
      ]
     },
     "execution_count": 81,
     "metadata": {},
     "output_type": "execute_result"
    }
   ],
   "source": [
    "arr_copy = arr.copy()\n",
    "\n",
    "arr_copy[1:2] = 1\n",
    "\n",
    "print(arr_copy)\n",
    "arr"
   ]
  },
  {
   "cell_type": "markdown",
   "metadata": {},
   "source": [
    "# Boolean indexing\n",
    "Numpy provides multiple ways of indexing ndarrays.Numpy arrays can be indexed by using conditions that evaluate\n",
    "to True or False.Let's start by regenerating an arr ndarray,as follows:"
   ]
  },
  {
   "cell_type": "code",
   "execution_count": 82,
   "metadata": {},
   "outputs": [
    {
     "name": "stdout",
     "output_type": "stream",
     "text": [
      "[[-2.02834278  1.23186962 -0.23715993]\n",
      " [ 0.68934372  0.36726963  0.79948345]\n",
      " [ 0.57765649  0.15399761  0.46227423]]\n",
      "[[ True False  True]\n",
      " [False False False]\n",
      " [False False False]]\n",
      "[-2.02834278 -0.23715993]\n",
      "[[False False  True]\n",
      " [ True  True  True]\n",
      " [ True  True  True]]\n"
     ]
    },
    {
     "data": {
      "text/plain": [
       "array([-0.23715993,  0.68934372,  0.36726963,  0.79948345,  0.57765649,\n",
       "        0.15399761,  0.46227423])"
      ]
     },
     "execution_count": 82,
     "metadata": {},
     "output_type": "execute_result"
    }
   ],
   "source": [
    "arr = np.random.randn(3,3)\n",
    "print(arr)\n",
    "\n",
    "print(np.less(arr,0))\n",
    "\n",
    "# we can use that arra as index to arr to find the actual negative elements as follows\n",
    "\n",
    "print(arr[(arr < 0)]) \n",
    "\n",
    "\n",
    "# we can combine multip;e conditions with & (and) ns | (or) operators.\n",
    "# Pythons & and | Boolean operators do not work on ndarrays since they are for scalars\n",
    "\n",
    "\n",
    "\n",
    "print((arr > -1) & (arr < 1))\n",
    "\n",
    "arr[((arr > -1) & (arr < 1))]\n"
   ]
  },
  {
   "cell_type": "markdown",
   "metadata": {},
   "source": [
    "# Indexing with arrays\n",
    "\n",
    "ndarray indexing also allows us to directly pass lists of indices of interst.Let's first \n",
    "generate an ndarray of randome values to use, as follows:\n",
    "\n"
   ]
  },
  {
   "cell_type": "code",
   "execution_count": 83,
   "metadata": {},
   "outputs": [
    {
     "name": "stdout",
     "output_type": "stream",
     "text": [
      "[[-2.02834278  1.23186962 -0.23715993]\n",
      " [ 0.68934372  0.36726963  0.79948345]\n",
      " [ 0.57765649  0.15399761  0.46227423]]\n",
      "\n",
      "[[-2.02834278  1.23186962 -0.23715993]\n",
      " [ 0.57765649  0.15399761  0.46227423]]\n",
      "\n",
      "[1.23186962 0.15399761]\n"
     ]
    },
    {
     "data": {
      "text/plain": [
       "array([[ 0.57765649,  0.15399761,  0.46227423],\n",
       "       [-2.02834278,  1.23186962, -0.23715993]])"
      ]
     },
     "execution_count": 83,
     "metadata": {},
     "output_type": "execute_result"
    }
   ],
   "source": [
    "print(arr)\n",
    "\n",
    "# select the first the first and third rows, using the following code\n",
    "print(\"\")\n",
    "print(arr[[0,2]])\n",
    "\n",
    "# we can combine row and column indexing using arrays, as follows:\n",
    "print(\"\")\n",
    "print(arr[[0,2],[1]])\n",
    "\n",
    "# the folowing code picks up the third row followed by the second row\n",
    "arr[[2,0]] \n"
   ]
  },
  {
   "cell_type": "markdown",
   "metadata": {},
   "source": [
    "# Basic ndarray operations\n"
   ]
  },
  {
   "cell_type": "code",
   "execution_count": 84,
   "metadata": {},
   "outputs": [
    {
     "data": {
      "text/plain": [
       "array([[1, 2],\n",
       "       [3, 4]])"
      ]
     },
     "execution_count": 84,
     "metadata": {},
     "output_type": "execute_result"
    }
   ],
   "source": [
    "arr2D"
   ]
  },
  {
   "cell_type": "code",
   "execution_count": 85,
   "metadata": {},
   "outputs": [
    {
     "data": {
      "text/plain": [
       "array([[ 4,  8],\n",
       "       [12, 16]])"
      ]
     },
     "execution_count": 85,
     "metadata": {},
     "output_type": "execute_result"
    }
   ],
   "source": [
    "# Scalar multiplication with an ndarray\n",
    "arr2D * 4"
   ]
  },
  {
   "cell_type": "markdown",
   "metadata": {},
   "source": [
    "# Linear combinations of ndarrays\n",
    "\n",
    "The following is a combinations of scalar and ndarrays operations,as well as operation between ndarrays\n",
    "\n"
   ]
  },
  {
   "cell_type": "code",
   "execution_count": 86,
   "metadata": {},
   "outputs": [
    {
     "data": {
      "text/plain": [
       "array([[ 5, 10],\n",
       "       [15, 20]])"
      ]
     },
     "execution_count": 86,
     "metadata": {},
     "output_type": "execute_result"
    }
   ],
   "source": [
    "2 * arr2D + 3*arr2D"
   ]
  },
  {
   "cell_type": "markdown",
   "metadata": {},
   "source": [
    "# Exponentiation of ndarrays"
   ]
  },
  {
   "cell_type": "code",
   "execution_count": 87,
   "metadata": {},
   "outputs": [
    {
     "data": {
      "text/plain": [
       "array([[ 1,  4],\n",
       "       [ 9, 16]])"
      ]
     },
     "execution_count": 87,
     "metadata": {},
     "output_type": "execute_result"
    }
   ],
   "source": [
    "arr2D ** 2"
   ]
  },
  {
   "cell_type": "markdown",
   "metadata": {},
   "source": [
    "# Addition of an ndarray with a scalar"
   ]
  },
  {
   "cell_type": "code",
   "execution_count": 88,
   "metadata": {},
   "outputs": [
    {
     "data": {
      "text/plain": [
       "array([[11, 12],\n",
       "       [13, 14]])"
      ]
     },
     "execution_count": 88,
     "metadata": {},
     "output_type": "execute_result"
    }
   ],
   "source": [
    "arr2D + 10"
   ]
  },
  {
   "cell_type": "markdown",
   "metadata": {},
   "source": [
    "# Transposing a matrix"
   ]
  },
  {
   "cell_type": "code",
   "execution_count": 89,
   "metadata": {},
   "outputs": [
    {
     "data": {
      "text/plain": [
       "array([[1, 3],\n",
       "       [2, 4]])"
      ]
     },
     "execution_count": 89,
     "metadata": {},
     "output_type": "execute_result"
    }
   ],
   "source": [
    "arr2D.transpose()"
   ]
  },
  {
   "cell_type": "markdown",
   "metadata": {},
   "source": [
    "# Changing the layout of an ndarray\n",
    "\n",
    "The np.ndarray.reshape(...) method allows us to change the layout(shape) of \n",
    "the ndarray without changing its data to compatible shape\n",
    "\n"
   ]
  },
  {
   "cell_type": "code",
   "execution_count": 90,
   "metadata": {},
   "outputs": [
    {
     "name": "stdout",
     "output_type": "stream",
     "text": [
      "[[1]\n",
      " [2]\n",
      " [3]\n",
      " [4]]\n"
     ]
    },
    {
     "data": {
      "text/plain": [
       "array([[ 0.35619334,  1.53892193,  2.24920247],\n",
       "       [-0.42231846,  1.68318914,  0.26310498],\n",
       "       [-0.80702996, -0.33338037,  0.50752515]])"
      ]
     },
     "execution_count": 90,
     "metadata": {},
     "output_type": "execute_result"
    }
   ],
   "source": [
    "# For instance, to reshape arr2D from 2x2 to 4x1 , we use the following code\n",
    "print(arr2D.reshape((4,1)))\n",
    "\n",
    "# The following code example combines np.random.randn(....) and np.ndarray.reshape(....)\n",
    "# to create 3x3 ndarray of random values\n",
    "\n",
    "arr = np.random.randn(9).reshape((3,3))\n",
    "arr"
   ]
  },
  {
   "cell_type": "code",
   "execution_count": 91,
   "metadata": {},
   "outputs": [
    {
     "data": {
      "text/plain": [
       "-0.8070299589854065"
      ]
     },
     "execution_count": 91,
     "metadata": {},
     "output_type": "execute_result"
    }
   ],
   "source": [
    "# Finding the minimum value in an ndarray\n",
    "np.min(arr)"
   ]
  },
  {
   "cell_type": "code",
   "execution_count": 92,
   "metadata": {},
   "outputs": [
    {
     "data": {
      "text/plain": [
       "array([[0.35619334, 1.53892193, 2.24920247],\n",
       "       [0.42231846, 1.68318914, 0.26310498],\n",
       "       [0.80702996, 0.33338037, 0.50752515]])"
      ]
     },
     "execution_count": 92,
     "metadata": {},
     "output_type": "execute_result"
    }
   ],
   "source": [
    "# Calculating the absolute value\n",
    "\n",
    "np.abs(arr)"
   ]
  },
  {
   "cell_type": "code",
   "execution_count": 93,
   "metadata": {},
   "outputs": [
    {
     "name": "stdout",
     "output_type": "stream",
     "text": [
      "0.5594898023852799\n",
      "[-0.29105169  0.96291023  1.00661087]\n"
     ]
    },
    {
     "data": {
      "text/plain": [
       "array([ 1.38143925,  0.50799189, -0.21096173])"
      ]
     },
     "execution_count": 93,
     "metadata": {},
     "output_type": "execute_result"
    }
   ],
   "source": [
    "# Calculating the mean of an ndarray\n",
    "print(np.mean(arr))\n",
    "\n",
    "# Finding the mean along the columns by specifying the axis = parameter, as follows\n",
    "print(np.mean(arr,axis=0))\n",
    "\n",
    "# Finding the mean along the rows by running the following code\n",
    "np.mean(arr,axis=1)"
   ]
  },
  {
   "cell_type": "markdown",
   "metadata": {},
   "source": [
    "# Finding the index of the maximum value in an ndarray\n",
    "Often, we're interested in finding where in an array its largest value is. The np.armax(...) does it\n"
   ]
  },
  {
   "cell_type": "code",
   "execution_count": 94,
   "metadata": {},
   "outputs": [
    {
     "name": "stdout",
     "output_type": "stream",
     "text": [
      "2\n"
     ]
    },
    {
     "data": {
      "text/plain": [
       "array([2, 1, 2], dtype=int64)"
      ]
     },
     "execution_count": 94,
     "metadata": {},
     "output_type": "execute_result"
    }
   ],
   "source": [
    "print(np.argmax(arr))\n",
    "\n",
    "\n",
    "# The np.argmax(....) method also accepts the axis =parameter to perform operation on row-wise\n",
    "\n",
    "np.argmax(arr,axis=1)\n",
    "\n"
   ]
  },
  {
   "cell_type": "markdown",
   "metadata": {},
   "source": [
    "# Calculating the cumulative sum of elements of an ndarray\n",
    "\n",
    "Notice the differnce between a cumulative sum and a sum . A cumulative sum is an array \n",
    "of a  running total,whereas a sum is a single number\n",
    "\n"
   ]
  },
  {
   "cell_type": "code",
   "execution_count": 95,
   "metadata": {},
   "outputs": [
    {
     "name": "stdout",
     "output_type": "stream",
     "text": [
      "[[ 0.35619334  1.53892193  2.24920247]\n",
      " [-0.42231846  1.68318914  0.26310498]\n",
      " [-0.80702996 -0.33338037  0.50752515]]\n",
      "[0.35619334 1.89511527 4.14431774 3.72199928 5.40518842 5.6682934\n",
      " 4.86126344 4.52788307 5.03540822]\n"
     ]
    },
    {
     "data": {
      "text/plain": [
       "array([[ 0.35619334,  1.89511527,  4.14431774],\n",
       "       [-0.42231846,  1.26087068,  1.52397566],\n",
       "       [-0.80702996, -1.14041033, -0.63288518]])"
      ]
     },
     "execution_count": 95,
     "metadata": {},
     "output_type": "execute_result"
    }
   ],
   "source": [
    "print(arr)\n",
    "\n",
    "# cumulative sum\n",
    "print(np.cumsum(arr))\n",
    "\n",
    "\n",
    "# cumulative sum along the row\n",
    "np.cumsum(arr,axis=1)"
   ]
  },
  {
   "cell_type": "markdown",
   "metadata": {},
   "source": [
    "# Finding NaNs in an ndarray\n",
    "Missing or unknown values are often represented in Numpy using a Not a number\n",
    "(NaN) value. For many numerical methods, these must be removed or replaced with \n",
    "an interpolation\n",
    "\n"
   ]
  },
  {
   "cell_type": "code",
   "execution_count": 96,
   "metadata": {},
   "outputs": [
    {
     "data": {
      "text/plain": [
       "array([[ 0.35619334,  1.53892193,  2.24920247],\n",
       "       [        nan,         nan,         nan],\n",
       "       [-0.80702996, -0.33338037,  0.50752515]])"
      ]
     },
     "execution_count": 96,
     "metadata": {},
     "output_type": "execute_result"
    }
   ],
   "source": [
    "# setting the second row to Nan\n",
    "arr[1,:] = np.nan;\n",
    "arr"
   ]
  },
  {
   "cell_type": "code",
   "execution_count": 97,
   "metadata": {},
   "outputs": [
    {
     "data": {
      "text/plain": [
       "array([[False, False, False],\n",
       "       [ True,  True,  True],\n",
       "       [False, False, False]])"
      ]
     },
     "execution_count": 97,
     "metadata": {},
     "output_type": "execute_result"
    }
   ],
   "source": [
    "# finding if Nan values exist\n",
    "np.isnan(arr)"
   ]
  },
  {
   "cell_type": "markdown",
   "metadata": {},
   "source": [
    "# Finding the truth values of x1 > x2 of two ndarrays\n",
    "\n",
    "Boolean ndarrays are an efficient way of obtaining indices for values of interest."
   ]
  },
  {
   "cell_type": "code",
   "execution_count": 98,
   "metadata": {},
   "outputs": [
    {
     "data": {
      "text/plain": [
       "array([[ 0.5464414 , -0.03676923,  0.1639154 ],\n",
       "       [ 2.30075902,  1.42647308,  0.13532757],\n",
       "       [-0.03344568,  1.46974264, -0.47542093]])"
      ]
     },
     "execution_count": 98,
     "metadata": {},
     "output_type": "execute_result"
    }
   ],
   "source": [
    "arr1 = np.random.randn(9).reshape((3,3))\n",
    "\n",
    "arr1"
   ]
  },
  {
   "cell_type": "code",
   "execution_count": 99,
   "metadata": {},
   "outputs": [
    {
     "data": {
      "text/plain": [
       "array([[-0.90512801, -3.25306863, -0.45613848],\n",
       "       [ 1.02826982, -1.62294645, -0.35146056],\n",
       "       [-1.25762676, -1.17637063, -0.68362186]])"
      ]
     },
     "execution_count": 99,
     "metadata": {},
     "output_type": "execute_result"
    }
   ],
   "source": [
    "# Similarly,let's build another arr2 ndarray, as follows:\n",
    "arr2 = np.random.randn(9).reshape((3,3))\n",
    "arr2"
   ]
  },
  {
   "cell_type": "code",
   "execution_count": 100,
   "metadata": {},
   "outputs": [
    {
     "data": {
      "text/plain": [
       "array([[ True,  True,  True],\n",
       "       [ True,  True,  True],\n",
       "       [ True,  True,  True]])"
      ]
     },
     "execution_count": 100,
     "metadata": {},
     "output_type": "execute_result"
    }
   ],
   "source": [
    "# The np.greater(....) function is a binary ufunc that generates a True value\n",
    "# when the left-hand-side value in the ndarray is greater  than right hand side in the ndarray\n",
    "\n",
    "np.greater(arr1,arr2)"
   ]
  },
  {
   "cell_type": "code",
   "execution_count": 101,
   "metadata": {},
   "outputs": [
    {
     "data": {
      "text/plain": [
       "array([[ True,  True,  True],\n",
       "       [ True,  True,  True],\n",
       "       [ True,  True,  True]])"
      ]
     },
     "execution_count": 101,
     "metadata": {},
     "output_type": "execute_result"
    }
   ],
   "source": [
    "# output is the same as above\n",
    "\n",
    "arr1 > arr2"
   ]
  },
  {
   "cell_type": "markdown",
   "metadata": {},
   "source": [
    "# any and all Boolean operations on ndarrays\n",
    "\n",
    "In addition to relational operators, Numpy supports additional methods for testing\n",
    "conditions on matrices values"
   ]
  },
  {
   "cell_type": "code",
   "execution_count": 102,
   "metadata": {},
   "outputs": [
    {
     "data": {
      "text/plain": [
       "array([[ True, False, False],\n",
       "       [False, False, False],\n",
       "       [False,  True, False]])"
      ]
     },
     "execution_count": 102,
     "metadata": {},
     "output_type": "execute_result"
    }
   ],
   "source": [
    "arr_bool = (arr > -0.5) & (arr < 0.5)\n",
    "\n",
    "arr_bool"
   ]
  },
  {
   "cell_type": "code",
   "execution_count": 103,
   "metadata": {},
   "outputs": [
    {
     "data": {
      "text/plain": [
       "True"
      ]
     },
     "execution_count": 103,
     "metadata": {},
     "output_type": "execute_result"
    }
   ],
   "source": [
    "# The following numpy.ndarray.any() method returns True if any element is True otherwise returns False\n",
    "\n",
    "arr_bool.any()"
   ]
  },
  {
   "cell_type": "code",
   "execution_count": 104,
   "metadata": {},
   "outputs": [
    {
     "data": {
      "text/plain": [
       "array([ True, False,  True])"
      ]
     },
     "execution_count": 104,
     "metadata": {},
     "output_type": "execute_result"
    }
   ],
   "source": [
    "# Again, it accepts the common axis= parameter and behaves as expected\n",
    "arr_bool.any(axis=1)"
   ]
  },
  {
   "cell_type": "code",
   "execution_count": 105,
   "metadata": {},
   "outputs": [
    {
     "data": {
      "text/plain": [
       "False"
      ]
     },
     "execution_count": 105,
     "metadata": {},
     "output_type": "execute_result"
    }
   ],
   "source": [
    "# The following numpy.ndarray.all() method returns True when all elements are True, and False otherwise\n",
    "arr_bool.all()"
   ]
  },
  {
   "cell_type": "code",
   "execution_count": 106,
   "metadata": {},
   "outputs": [
    {
     "data": {
      "text/plain": [
       "array([False, False, False])"
      ]
     },
     "execution_count": 106,
     "metadata": {},
     "output_type": "execute_result"
    }
   ],
   "source": [
    "# It also accepts the axis= parameter, as follows:\n",
    "arr_bool.all(axis=1)"
   ]
  },
  {
   "cell_type": "markdown",
   "metadata": {},
   "source": [
    "# Sorting ndarrays\n",
    "\n",
    "Finding an element in a sorted ndarray is faster than processing all elements of the ndarray"
   ]
  },
  {
   "cell_type": "code",
   "execution_count": 107,
   "metadata": {},
   "outputs": [
    {
     "data": {
      "text/plain": [
       "array([-1.30396482, -0.24516498, -0.08165951, -0.43374816,  1.29098286,\n",
       "       -2.29474214, -1.95481846, -0.84889269,  0.83764433,  1.25424876])"
      ]
     },
     "execution_count": 107,
     "metadata": {},
     "output_type": "execute_result"
    }
   ],
   "source": [
    "arr1D = np.random.randn(10)\n",
    "arr1D"
   ]
  },
  {
   "cell_type": "code",
   "execution_count": 108,
   "metadata": {},
   "outputs": [
    {
     "data": {
      "text/plain": [
       "array([-2.29474214, -1.95481846, -1.30396482, -0.84889269, -0.43374816,\n",
       "       -0.24516498, -0.08165951,  0.83764433,  1.25424876,  1.29098286])"
      ]
     },
     "execution_count": 108,
     "metadata": {},
     "output_type": "execute_result"
    }
   ],
   "source": [
    "# The np.sort(.....) method is pretty straightforward, as can be seen here:\n",
    "np.sort(arr1D)"
   ]
  },
  {
   "cell_type": "code",
   "execution_count": 109,
   "metadata": {},
   "outputs": [
    {
     "data": {
      "text/plain": [
       "array([-1.30396482, -0.24516498, -0.08165951, -0.43374816,  1.29098286,\n",
       "       -2.29474214, -1.95481846, -0.84889269,  0.83764433,  1.25424876])"
      ]
     },
     "execution_count": 109,
     "metadata": {},
     "output_type": "execute_result"
    }
   ],
   "source": [
    "# lets inspecte the original ndarray to see if it was modified by the numpy.sort(....)\n",
    "\n",
    "arr1D"
   ]
  },
  {
   "cell_type": "code",
   "execution_count": 111,
   "metadata": {},
   "outputs": [
    {
     "data": {
      "text/plain": [
       "array([0, 1, 2, 3, 4, 5, 6, 7, 8, 9], dtype=int64)"
      ]
     },
     "execution_count": 111,
     "metadata": {},
     "output_type": "execute_result"
    }
   ],
   "source": [
    "# the following np.argsort(....) method creates an array that represent the location of each element in  a sorted aray\n",
    "arr1D.sort()\n",
    "np.argsort(arr1D)"
   ]
  },
  {
   "cell_type": "markdown",
   "metadata": {},
   "source": [
    "# Searching within ndarrays\n",
    "\n",
    "Finding indices of elements where a certain condition is met is a fundamental operation on an ndarray\n",
    "\n",
    "First, we start with an ndarray with consecutive values, as illustrated here:\n",
    "\n"
   ]
  },
  {
   "cell_type": "code",
   "execution_count": 112,
   "metadata": {},
   "outputs": [
    {
     "data": {
      "text/plain": [
       "array([ 1,  2,  3,  4,  5,  6,  7,  8,  9, 10])"
      ]
     },
     "execution_count": 112,
     "metadata": {},
     "output_type": "execute_result"
    }
   ],
   "source": [
    "arr1 = np.array(range(1,11))\n",
    "arr1"
   ]
  },
  {
   "cell_type": "code",
   "execution_count": 113,
   "metadata": {},
   "outputs": [
    {
     "data": {
      "text/plain": [
       "array([ 1000,  2000,  3000,  4000,  5000,  6000,  7000,  8000,  9000,\n",
       "       10000])"
      ]
     },
     "execution_count": 113,
     "metadata": {},
     "output_type": "execute_result"
    }
   ],
   "source": [
    "# we create a second ndarray based on the first one , except this time the values in the second one is multiplied by 1000\n",
    "\n",
    "arr2 = arr1 * 1000\n",
    "arr2"
   ]
  },
  {
   "cell_type": "code",
   "execution_count": 119,
   "metadata": {},
   "outputs": [
    {
     "data": {
      "text/plain": [
       "array([False, False, False, False,  True, False, False,  True, False,\n",
       "        True])"
      ]
     },
     "execution_count": 119,
     "metadata": {},
     "output_type": "execute_result"
    }
   ],
   "source": [
    "# we define another ndarray that contains 10 True and False when randomly, as follows:\n",
    "cond = np.random.randn(10) > 0;\n",
    "cond"
   ]
  },
  {
   "cell_type": "code",
   "execution_count": 121,
   "metadata": {},
   "outputs": [
    {
     "data": {
      "text/plain": [
       "array([1000, 2000, 3000, 4000,    5, 6000, 7000,    8, 9000,   10])"
      ]
     },
     "execution_count": 121,
     "metadata": {},
     "output_type": "execute_result"
    }
   ],
   "source": [
    "# The np.where(....) method allows us to select values form one ndarray or another.\n",
    "# depending on the condition being True or False.THe following code will generate an \n",
    "# ndarray with a value picked from arr1 when corresponding element in the cond \n",
    "# array is True, otherwise , the value is picked from  arr2.T\n",
    "\n",
    "np.where(cond,arr1,arr2)"
   ]
  },
  {
   "cell_type": "markdown",
   "metadata": {},
   "source": [
    "# File operations on ndarrays\n",
    "\n",
    "Most NumPy arrays are read in from files and after processing wriiten out back to files"
   ]
  },
  {
   "cell_type": "code",
   "execution_count": 124,
   "metadata": {},
   "outputs": [],
   "source": [
    "arr = np.random.randn(9).reshape((3,3))"
   ]
  },
  {
   "cell_type": "code",
   "execution_count": 125,
   "metadata": {},
   "outputs": [
    {
     "data": {
      "text/plain": [
       "array([[-1.07713659,  0.03431754,  1.11410791],\n",
       "       [-0.78599704,  1.11854937, -1.00575731],\n",
       "       [ 0.41275496,  1.89245804, -0.25048311]])"
      ]
     },
     "execution_count": 125,
     "metadata": {},
     "output_type": "execute_result"
    }
   ],
   "source": [
    "arr"
   ]
  },
  {
   "cell_type": "code",
   "execution_count": 127,
   "metadata": {},
   "outputs": [],
   "source": [
    "# saving files \n",
    "\n",
    "np.savetxt('arr.csv',arr,fmt='%0.21f',delimiter=',')"
   ]
  },
  {
   "cell_type": "code",
   "execution_count": 128,
   "metadata": {},
   "outputs": [
    {
     "data": {
      "text/plain": [
       "array([[-1.07713659,  0.03431754,  1.11410791],\n",
       "       [-0.78599704,  1.11854937, -1.00575731],\n",
       "       [ 0.41275496,  1.89245804, -0.25048311]])"
      ]
     },
     "execution_count": 128,
     "metadata": {},
     "output_type": "execute_result"
    }
   ],
   "source": [
    "# loading files\n",
    "\n",
    "# The numpy.loadtxt(....) method loads and ndarray from text file to memory.Here, we explicitly specify the delimeter=',' parameter as follows:\n",
    "arr_new = np.loadtxt('arr.csv',delimiter=',')\n",
    "arr_new"
   ]
  },
  {
   "cell_type": "markdown",
   "metadata": {},
   "source": [
    "# File operations with binary files\n",
    "Binary files are far more efficient for computer processing-they save and load more quickly\n",
    "and are smaller than text files. However, their format may not be supported by other software\n",
    "\n",
    "The numpy.save(...) method stores ndarray in a binary format\n"
   ]
  },
  {
   "cell_type": "code",
   "execution_count": 129,
   "metadata": {},
   "outputs": [],
   "source": [
    "np.save('arr',arr)"
   ]
  },
  {
   "cell_type": "code",
   "execution_count": 130,
   "metadata": {},
   "outputs": [
    {
     "data": {
      "text/plain": [
       "array([[-1.07713659,  0.03431754,  1.11410791],\n",
       "       [-0.78599704,  1.11854937, -1.00575731],\n",
       "       [ 0.41275496,  1.89245804, -0.25048311]])"
      ]
     },
     "execution_count": 130,
     "metadata": {},
     "output_type": "execute_result"
    }
   ],
   "source": [
    "# The numpy.load(....) method, shown in the ff code snippet, is used for reading binary files\n",
    "\n",
    "arr_new = np.load('arr.npy')\n",
    "arr_new"
   ]
  },
  {
   "cell_type": "markdown",
   "metadata": {},
   "source": [
    "Another advantage of having binary file formats is that data can be stored wiht extremee\n",
    "precsion, especially when dealing with floating values, which is not always possible with \n",
    "text files since there is some loss of precision in certain cases"
   ]
  },
  {
   "cell_type": "code",
   "execution_count": 131,
   "metadata": {},
   "outputs": [
    {
     "data": {
      "text/plain": [
       "array([[ True,  True,  True],\n",
       "       [ True,  True,  True],\n",
       "       [ True,  True,  True]])"
      ]
     },
     "execution_count": 131,
     "metadata": {},
     "output_type": "execute_result"
    }
   ],
   "source": [
    "arr == arr_new"
   ]
  },
  {
   "cell_type": "code",
   "execution_count": null,
   "metadata": {},
   "outputs": [],
   "source": []
  }
 ],
 "metadata": {
  "kernelspec": {
   "display_name": "Python 3.10.7 64-bit",
   "language": "python",
   "name": "python3"
  },
  "language_info": {
   "codemirror_mode": {
    "name": "ipython",
    "version": 3
   },
   "file_extension": ".py",
   "mimetype": "text/x-python",
   "name": "python",
   "nbconvert_exporter": "python",
   "pygments_lexer": "ipython3",
   "version": "3.10.7"
  },
  "orig_nbformat": 4,
  "vscode": {
   "interpreter": {
    "hash": "23abe47fcab342a79f5b9b2c3cef11695b853d3beb9df519a316033bcc21e26f"
   }
  }
 },
 "nbformat": 4,
 "nbformat_minor": 2
}
